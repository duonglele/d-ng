{
  "cells": [
    {
      "cell_type": "code",
      "source": [
        "import pandas as pd\n",
        "\n",
        "# Đọc file bạn đã upload\n",
        "# Changed the file path from absolute path to relative path\n",
        "df = pd.read_csv(\"spam.csv\", encoding=\"latin-1\")\n",
        "\n",
        "# Xem thông tin cơ bản\n",
        "print(\" Cột trong file:\", df.columns.tolist())\n",
        "print(\"\\n 5 dòng đầu tiên:\\n\", df.head())"
      ],
      "metadata": {
        "id": "UBi0GXZgeygy",
        "outputId": "fae56e95-a8c4-4e01-9cbb-15bdea6c8105",
        "colab": {
          "base_uri": "https://localhost:8080/"
        }
      },
      "execution_count": null,
      "outputs": [
        {
          "output_type": "stream",
          "name": "stdout",
          "text": [
            " Cột trong file: ['v1', 'v2', 'Unnamed: 2', 'Unnamed: 3', 'Unnamed: 4']\n",
            "\n",
            " 5 dòng đầu tiên:\n",
            "      v1                                                 v2 Unnamed: 2  \\\n",
            "0   ham  Go until jurong point, crazy.. Available only ...        NaN   \n",
            "1   ham                      Ok lar... Joking wif u oni...        NaN   \n",
            "2  spam  Free entry in 2 a wkly comp to win FA Cup fina...        NaN   \n",
            "3   ham  U dun say so early hor... U c already then say...        NaN   \n",
            "4   ham  Nah I don't think he goes to usf, he lives aro...        NaN   \n",
            "\n",
            "  Unnamed: 3 Unnamed: 4  \n",
            "0        NaN        NaN  \n",
            "1        NaN        NaN  \n",
            "2        NaN        NaN  \n",
            "3        NaN        NaN  \n",
            "4        NaN        NaN  \n"
          ]
        }
      ]
    },
    {
      "cell_type": "code",
      "source": [
        "import pandas as pd\n",
        "from sklearn.model_selection import train_test_split\n",
        "from sklearn.feature_extraction.text import TfidfVectorizer\n",
        "from sklearn.linear_model import LogisticRegression\n",
        "from sklearn.metrics import accuracy_score, classification_report, confusion_matrix\n",
        "\n",
        "# 1. Đọc dữ liệu từ file Kaggle spam.csv\n",
        "df = pd.read_csv('spam.csv', encoding='latin-1')\n",
        "\n",
        "# 2. Giữ lại 2 cột chính và đổi tên\n",
        "df = df[['v1', 'v2']]\n",
        "df.columns = ['label', 'message']  # Cột v1 chứa spam/ham, cột v2 là nội dung tin nhắn. Đổi tên để dễ hiểu: label và message\n",
        "\n",
        "# 3. Chuyển nhãn 'ham' và 'spam' thành 0 và 1\n",
        "df['label'] = df['label'].map({'ham': 0, 'spam': 1})   # ham → 0 (không phải spam). spam → 1 (là spam)\n",
        "\n",
        "# 4. Tách dữ liệu thành input (X) và output (y)\n",
        "X = df['message']   # X: nội dung tin nhắn. y: nhãn 0 hoặc 1\n",
        "y = df['label']\n",
        "\n",
        "# 5. Vector hóa văn bản với TF-IDF\n",
        "vectorizer = TfidfVectorizer(stop_words='english')\n",
        "X = vectorizer.fit_transform(df['message'])\n",
        "# Mô hình không hiểu văn bản, nên ta dùng TF-IDF để biến mỗi tin nhắn thành một vector số học (toán học).\n",
        "# Mỗi từ trong tin nhắn sẽ là một đặc trưng (feature), và giá trị của từ đó sẽ dựa vào mức độ quan trọng trong tập dữ liệu.\n",
        "import pandas as pd\n",
        "from sklearn.model_selection import train_test_split\n",
        "from sklearn.feature_extraction.text import TfidfVectorizer\n",
        "from sklearn.linear_model import LogisticRegression\n",
        "from sklearn.metrics import accuracy_score, classification_report, confusion_matrix\n",
        "\n",
        "# 1. Đọc dữ liệu từ file Kaggle spam.csv\n",
        "df = pd.read_csv('spam.csv', encoding='latin-1')\n",
        "\n",
        "# 2. Giữ lại 2 cột chính và đổi tên\n",
        "df = df[['v1', 'v2']]\n",
        "df.columns = ['label', 'message']  # Cột v1 chứa spam/ham, cột v2 là nội dung tin nhắn. Đổi tên để dễ hiểu: label và message\n",
        "\n",
        "# 3. Chuyển nhãn 'ham' và 'spam' thành 0 và 1\n",
        "df['label'] = df['label'].map({'ham': 0, 'spam': 1})   # ham → 0 (không phải spam). spam → 1 (là spam)\n",
        "\n",
        "# 4. Tách dữ liệu thành input (X) và output (y)\n",
        "X = df['message']   # X: nội dung tin nhắn. y: nhãn 0 hoặc 1\n",
        "y = df['label']\n",
        "\n",
        "# 5. Vector hóa văn bản với TF-IDF\n",
        "vectorizer = TfidfVectorizer(stop_words='english')\n",
        "X_vectorized = vectorizer.fit_transform(df['message'])\n",
        "# Mô hình không hiểu văn bản, nên ta dùng TF-IDF để biến mỗi tin nhắn thành một vector số học (toán học).\n",
        "# Mỗi từ trong tin nhắn sẽ là một đặc trưng (feature), và giá trị của từ đó sẽ dựa vào mức độ quan trọng trong tập dữ liệu.\n",
        "\n",
        "# 6. Chia dữ liệu thành train và test\n",
        "X_train, X_test, y_train, y_test = train_test_split(X_vectorized, y, test_size=0.2, random_state=42)\n",
        "# X_train  80% dữ liệu tin nhắn để huấn luyện mô hình(Tin nhắn huấn luyện)\n",
        "# X_test   20% tin nhắn còn lại để kiểm tra mô hình (Tin nhắn chưa thấy)\n",
        "# y_train Nhãn (spam hoặc không) tương ứng với `X_train` (Biết cái nào là spam)\n",
        "# y_test Nhãn thực tế của `X_test` để kiểm tra mô hình đoán đúng không (Biết mô hình đoán đúng/sai)\n",
        "# train_test_split la Hàm dùng để chia ngẫu nhiên dữ liệu ra 2 phần: huấn luyện và kiểm tra\n",
        "# test_size=0.2 la 20% dữ liệu để kiểm tra, 80% để huấn luyện(bài nhiều dữ liệu nên để 0.2)\n",
        "# random_state la Đảm bảo chia ngẫu nhiên nhưng lặp lại được, lần sau chia vẫn như vậy\n",
        "\n",
        "# 7. Huấn luyện Logistic Regression\n",
        "model = LogisticRegression()\n",
        "model.fit(X_train, y_train)\n",
        "#Ở đây, thuật toán Logistic Regression đang học:\n",
        "# Nếu một tin nhắn có những từ như: free, win, prize, urgent, thì có xác suất cao là spam.\n",
        "# Ngược lại, những từ như: hi, meeting, ok, mom thì có khả năng là ham.\n",
        "# Mô hình tìm cách tính trọng số (weight) cho mỗi từ, rồi kết hợp lại bằng công thức sigmoid để dự đoán xác suất thư đó là spam.\n",
        "# Bạn đang dạy mô hình học cách phân biệt tin nhắn \"spam\" và \"không spam\" dựa vào nội dung tin nhắn mà bạn đã gắn nhãn sẵn.\n",
        "\n",
        "# 8. Dự đoán và đánh giá mô hình\n",
        "y_pred = model.predict(X_test)\n",
        "# Dòng này dùng mô hình Logistic Regression để dự đoán kết quả của tập kiểm tra (X_test).\n",
        "# X_test: chứa 20% dữ liệu bạn chưa dùng để huấn luyện.\n",
        "# y_pred: là kết quả dự đoán từ mô hình (0 = ham, 1 = spam).\n",
        "print(\" Accuracy:\", accuracy_score(y_test, y_pred))\n",
        "# Hàm này so sánh kết quả dự đoán (y_pred) với nhãn thật (y_test) → Trả về độ chính xác (Accuracy) của mô hình.\n",
        "print(\"\\n Classification Report:\\n\", classification_report(y_test, y_pred))\n",
        "# precision Mô hình nói là spam, thì đúng bao nhiêu phần trăm\n",
        "# recall Trong tổng số spam thật, mô hình tìm được bao nhiêu\n",
        "# f1-score  Trung bình giữa precision và recall (quan trọng nhất)\n",
        "# support Số lượng thật sự của từng loại (spam, không spam)\n",
        "print(\"\\n Confusion Matrix:\\n\", confusion_matrix(y_test, y_pred))\n",
        "# Dự đoán:           Ham (0)   spam (1)\n",
        "# Thật là Ham (0)    962(TN)    3(FP)\n",
        "#         Spam (1)   59(FN)     91(TP)\n",
        "\n",
        "\n",
        "# 9. Hàm kiểm tra tin nhắn mới\n",
        "def predict_spam(message):\n",
        "    msg_vec = vectorizer.transform([message])\n",
        "    prediction = model.predict(msg_vec)\n",
        "    return \"Spam \" if prediction[0] else \"Not Spam \"\n",
        "\n",
        "# 10. Thử nghiệm\n",
        "test_message = \"Free entry in 2 a wkly comp to win FA Cup final tkts 21st May 2005. Text FA to 87121 to receive entry question(std txt rate)T&C's apply 08452810075over18's\"\n",
        "print(\"\\n Test message prediction:\", predict_spam(test_message))"
      ],
      "metadata": {
        "id": "281gMKjgecH8",
        "outputId": "7dbc387a-2db4-44b7-c4f0-0af4cc09185b",
        "colab": {
          "base_uri": "https://localhost:8080/"
        }
      },
      "execution_count": null,
      "outputs": [
        {
          "output_type": "stream",
          "name": "stdout",
          "text": [
            " Accuracy: 0.9443946188340807\n",
            "\n",
            " Classification Report:\n",
            "               precision    recall  f1-score   support\n",
            "\n",
            "           0       0.94      1.00      0.97       965\n",
            "           1       0.97      0.61      0.75       150\n",
            "\n",
            "    accuracy                           0.94      1115\n",
            "   macro avg       0.96      0.80      0.86      1115\n",
            "weighted avg       0.95      0.94      0.94      1115\n",
            "\n",
            "\n",
            " Confusion Matrix:\n",
            " [[962   3]\n",
            " [ 59  91]]\n",
            "\n",
            " Test message prediction: Spam \n"
          ]
        }
      ]
    },
    {
      "cell_type": "code",
      "source": [
        "import pandas as pd\n",
        "from sklearn.model_selection import train_test_split\n",
        "from sklearn.feature_extraction.text import TfidfVectorizer\n",
        "from sklearn.linear_model import LogisticRegression\n",
        "from sklearn.metrics import classification_report\n",
        "import joblib\n",
        "\n",
        "# 🔹 Bước 1: Đọc dữ liệu từ file Kaggle đã upload\n",
        "# Changed the file path from absolute path to relative path\n",
        "df = pd.read_csv('spam.csv', encoding='latin-1')\n",
        "\n",
        "# 🔹 Bước 2: Giữ 2 cột cần thiết: nhãn và nội dung\n",
        "df = df[['v1', 'v2']]\n",
        "df.columns = ['label', 'message']\n",
        "\n",
        "# 🔹 Bước 3: Chuyển đổi nhãn 'ham' → 0, 'spam' → 1\n",
        "df['label'] = df['label'].map({'ham': 0, 'spam': 1})\n",
        "\n",
        "# 🔹 Bước 4: Vector hóa nội dung văn bản bằng TF-IDF\n",
        "vectorizer = TfidfVectorizer(stop_words='english')\n",
        "X = vectorizer.fit_transform(df['message'])\n",
        "y = df['label']\n",
        "\n",
        "# 🔹 Bước 5: Chia dữ liệu train/test\n",
        "X_train, X_test, y_train, y_test = train_test_split(X, y, test_size=0.2, random_state=42)\n",
        "\n",
        "# 🔹 Bước 6: Huấn luyện mô hình Logistic Regression\n",
        "model = LogisticRegression()\n",
        "model.fit(X_train, y_train)\n",
        "\n",
        "# 🔹 Bước 7: Đánh giá mô hình\n",
        "y_pred = model.predict(X_test)\n",
        "print(\" Kết quả đánh giá mô hình:\")\n",
        "print(classification_report(y_test, y_pred))\n",
        "\n",
        "# 🔹 Bước 8: Hàm lọc thư\n",
        "def classify_message(message):\n",
        "    msg_vec = vectorizer.transform([message])\n",
        "    pred = model.predict(msg_vec)[0]\n",
        "    return \" Không phải spam\" if pred == 0 else \" SPAM!\"\n",
        "\n",
        "# 🔹 Bước 9: Dùng thử lọc một vài thư\n",
        "test_messages = [\n",
        "    \"Congratulations! You've won a free iPhone. Claim now!\",\n",
        "    \"Hi Mom, I'm coming home late tonight. Love you.\",\n",
        "    \"URGENT! Your account is blocked. Click here to reactivate.\",\n",
        "    \"Lunch at 12?\"\n",
        "]\n",
        "\n",
        "print(\"\\n Kiểm tra lọc thư:\")\n",
        "for msg in test_messages:\n",
        "    print(f\" {msg}\\n   → {classify_message(msg)}\\n\")\n",
        "\n",
        "# 🔹 Bước 10 (Tuỳ chọn): Lưu mô hình và vectorizer để dùng lại sau\n",
        "# If you intend to save to /mnt/data/, ensure the directory exists and is writable.\n",
        "# Otherwise, save to the current directory or a known path like /tmp/\n",
        "joblib.dump(model, \"spam_model.pkl\")\n",
        "joblib.dump(vectorizer, \"spam_vectorizer.pkl\")"
      ],
      "metadata": {
        "id": "X403JuOqfV9d",
        "outputId": "f17f60e5-4883-4e0b-b812-1eb639b9f301",
        "colab": {
          "base_uri": "https://localhost:8080/"
        }
      },
      "execution_count": null,
      "outputs": [
        {
          "output_type": "stream",
          "name": "stdout",
          "text": [
            " Kết quả đánh giá mô hình:\n",
            "              precision    recall  f1-score   support\n",
            "\n",
            "           0       0.94      1.00      0.97       965\n",
            "           1       0.97      0.61      0.75       150\n",
            "\n",
            "    accuracy                           0.94      1115\n",
            "   macro avg       0.96      0.80      0.86      1115\n",
            "weighted avg       0.95      0.94      0.94      1115\n",
            "\n",
            "\n",
            " Kiểm tra lọc thư:\n",
            " Congratulations! You've won a free iPhone. Claim now!\n",
            "   →  SPAM!\n",
            "\n",
            " Hi Mom, I'm coming home late tonight. Love you.\n",
            "   →  Không phải spam\n",
            "\n",
            " URGENT! Your account is blocked. Click here to reactivate.\n",
            "   →  Không phải spam\n",
            "\n",
            " Lunch at 12?\n",
            "   →  Không phải spam\n",
            "\n"
          ]
        },
        {
          "output_type": "execute_result",
          "data": {
            "text/plain": [
              "['spam_vectorizer.pkl']"
            ]
          },
          "metadata": {},
          "execution_count": 24
        }
      ]
    },
    {
      "cell_type": "code",
      "source": [
        "# Đọc lại file spam.csv mới được tải lên\n",
        "# Changed the file path from absolute path to relative path to match the previous successful reads\n",
        "df = pd.read_csv('spam.csv', encoding='latin-1')\n",
        "\n",
        "# Giữ lại các cột cần thiết\n",
        "df = df[['v1', 'v2']]\n",
        "df.columns = ['label', 'message']\n",
        "\n",
        "# Đếm số lượng mỗi loại thư\n",
        "label_counts = df['label'].value_counts()\n",
        "\n",
        "# Ensure matplotlib and seaborn are imported for plotting\n",
        "import matplotlib.pyplot as plt\n",
        "import seaborn as sns\n",
        "\n",
        "# Vẽ biểu đồ số lượng thư spam và không spam\n",
        "plt.figure(figsize=(6, 4))\n",
        "sns.barplot(x=label_counts.index, y=label_counts.values, palette='Set2')\n",
        "plt.title('Số lượng thư Spam và Không Spam')\n",
        "plt.xlabel('Loại thư')\n",
        "plt.ylabel('Số lượng')\n",
        "plt.xticks(ticks=[0, 1], labels=['Không Spam (Ham)', 'Spam'])\n",
        "plt.grid(axis='y', linestyle='--', alpha=0.6)\n",
        "plt.tight_layout()\n",
        "plt.show()"
      ],
      "metadata": {
        "colab": {
          "base_uri": "https://localhost:8080/",
          "height": 514
        },
        "id": "icXe7Kz8ip7v",
        "outputId": "a2098347-8afd-44dc-9725-fa0d5f2c08c2"
      },
      "execution_count": null,
      "outputs": [
        {
          "output_type": "stream",
          "name": "stderr",
          "text": [
            "<ipython-input-25-d2079388926a>:18: FutureWarning: \n",
            "\n",
            "Passing `palette` without assigning `hue` is deprecated and will be removed in v0.14.0. Assign the `x` variable to `hue` and set `legend=False` for the same effect.\n",
            "\n",
            "  sns.barplot(x=label_counts.index, y=label_counts.values, palette='Set2')\n"
          ]
        },
        {
          "output_type": "display_data",
          "data": {
            "text/plain": [
              "<Figure size 600x400 with 1 Axes>"
            ],
            "image/png": "[encoded data removed]"
          },
          "metadata": {}
        }
      ]
    }
  ],
  "metadata": {
    "colab": {
      "provenance": []
    },
    "kernelspec": {
      "display_name": "Python 3",
      "name": "python3"
    }
  },
  "nbformat": 4,
  "nbformat_minor": 0
}